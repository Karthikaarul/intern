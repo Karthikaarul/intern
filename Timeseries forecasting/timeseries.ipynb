{
 "cells": [
  {
   "cell_type": "code",
   "execution_count": 1,
   "metadata": {},
   "outputs": [],
   "source": [
    "import pandas as pd\n",
    "from sklearn.ensemble import RandomForestRegressor\n",
    "from sklearn.metrics import mean_squared_log_error\n",
    "from sklearn.model_selection import train_test_split"
   ]
  },
  {
   "cell_type": "code",
   "execution_count": 2,
   "metadata": {},
   "outputs": [],
   "source": [
    "# Load datasets\n",
    "train_df = pd.read_csv(\"C:\\\\Users\\\\DELL\\\\Desktop\\\\Timeseries forecasting\\\\train.csv\")\n",
    "test_df = pd.read_csv(\"C:\\\\Users\\\\DELL\\\\Desktop\\\\Timeseries forecasting\\\\test.csv\")\n",
    "stores_df = pd.read_csv(\"C:\\\\Users\\\\DELL\\\\Desktop\\\\Timeseries forecasting\\\\stores.csv\")\n",
    "oil_df = pd.read_csv('C:\\\\Users\\\\DELL\\\\Desktop\\\\Timeseries forecasting\\\\oil.csv')\n",
    "holidays_events_df = pd.read_csv(\"C:\\\\Users\\\\DELL\\\\Desktop\\\\Timeseries forecasting\\\\holidays_events.csv\")\n",
    "transactions_df = pd.read_csv(\"C:\\\\Users\\\\DELL\\\\Desktop\\\\Timeseries forecasting\\\\transactions.csv\")\n"
   ]
  },
  {
   "cell_type": "code",
   "execution_count": 3,
   "metadata": {},
   "outputs": [],
   "source": [
    "# Data Preprocessing\n",
    "train_df['date'] = pd.to_datetime(train_df['date'])\n",
    "test_df['date'] = pd.to_datetime(test_df['date'])\n",
    "oil_df['date'] = pd.to_datetime(oil_df['date'])\n",
    "holidays_events_df['date'] = pd.to_datetime(holidays_events_df['date'])\n",
    "transactions_df['date'] = pd.to_datetime(transactions_df['date'])"
   ]
  },
  {
   "cell_type": "code",
   "execution_count": 4,
   "metadata": {},
   "outputs": [],
   "source": [
    "# Merge datasets\n",
    "train = train_df.merge(stores_df, on='store_nbr', how='left')\n",
    "train = train.merge(oil_df, on='date', how='left')\n",
    "train = train.merge(transactions_df, on=['date', 'store_nbr'], how='left')\n",
    "\n",
    "test = test_df.merge(stores_df, on='store_nbr', how='left')\n",
    "test = test.merge(oil_df, on='date', how='left')\n",
    "test = test.merge(transactions_df, on=['date', 'store_nbr'], how='left')\n"
   ]
  },
  {
   "cell_type": "code",
   "execution_count": 5,
   "metadata": {},
   "outputs": [],
   "source": [
    "# Handle missing values\n",
    "train.fillna(0, inplace=True)\n",
    "test.fillna(0, inplace=True)\n"
   ]
  },
  {
   "cell_type": "code",
   "execution_count": null,
   "metadata": {},
   "outputs": [],
   "source": []
  },
  {
   "cell_type": "code",
   "execution_count": null,
   "metadata": {},
   "outputs": [],
   "source": []
  },
  {
   "cell_type": "code",
   "execution_count": null,
   "metadata": {},
   "outputs": [],
   "source": []
  },
  {
   "cell_type": "code",
   "execution_count": null,
   "metadata": {},
   "outputs": [],
   "source": []
  },
  {
   "cell_type": "code",
   "execution_count": null,
   "metadata": {},
   "outputs": [],
   "source": []
  },
  {
   "cell_type": "code",
   "execution_count": null,
   "metadata": {},
   "outputs": [],
   "source": []
  },
  {
   "cell_type": "code",
   "execution_count": null,
   "metadata": {},
   "outputs": [],
   "source": []
  },
  {
   "cell_type": "code",
   "execution_count": null,
   "metadata": {},
   "outputs": [],
   "source": []
  },
  {
   "cell_type": "code",
   "execution_count": null,
   "metadata": {},
   "outputs": [],
   "source": []
  }
 ],
 "metadata": {
  "kernelspec": {
   "display_name": "Python 3",
   "language": "python",
   "name": "python3"
  },
  "language_info": {
   "codemirror_mode": {
    "name": "ipython",
    "version": 3
   },
   "file_extension": ".py",
   "mimetype": "text/x-python",
   "name": "python",
   "nbconvert_exporter": "python",
   "pygments_lexer": "ipython3",
   "version": "3.12.4"
  }
 },
 "nbformat": 4,
 "nbformat_minor": 2
}
